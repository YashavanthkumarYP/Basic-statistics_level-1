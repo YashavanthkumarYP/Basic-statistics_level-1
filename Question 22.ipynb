{
 "cells": [
  {
   "cell_type": "markdown",
   "id": "719bc4af",
   "metadata": {},
   "source": [
    "# Q_22.Calculate the Z scores of 90% confidence interval,94% confidence interval, 60% confidence interval\n"
   ]
  },
  {
   "cell_type": "markdown",
   "id": "05c49a14",
   "metadata": {},
   "source": [
    "# Import Important Libraries\n"
   ]
  },
  {
   "cell_type": "code",
   "execution_count": 1,
   "id": "d1010d56",
   "metadata": {},
   "outputs": [],
   "source": [
    "from scipy import stats\n",
    "from scipy.stats import norm"
   ]
  },
  {
   "cell_type": "markdown",
   "id": "33def78a",
   "metadata": {},
   "source": [
    "# Area Left(AL) = (1+CI) / 2"
   ]
  },
  {
   "cell_type": "code",
   "execution_count": 2,
   "id": "eb0a22d5",
   "metadata": {},
   "outputs": [
    {
     "data": {
      "text/plain": [
       "0.95"
      ]
     },
     "execution_count": 2,
     "metadata": {},
     "output_type": "execute_result"
    }
   ],
   "source": [
    "a = (1+.90)/2\n",
    "a"
   ]
  },
  {
   "cell_type": "code",
   "execution_count": 3,
   "id": "8cb0e488",
   "metadata": {},
   "outputs": [
    {
     "data": {
      "text/plain": [
       "0.97"
      ]
     },
     "execution_count": 3,
     "metadata": {},
     "output_type": "execute_result"
    }
   ],
   "source": [
    "b = (1+.94)/2\n",
    "b"
   ]
  },
  {
   "cell_type": "code",
   "execution_count": 4,
   "id": "ac8a5438",
   "metadata": {},
   "outputs": [
    {
     "data": {
      "text/plain": [
       "0.8"
      ]
     },
     "execution_count": 4,
     "metadata": {},
     "output_type": "execute_result"
    }
   ],
   "source": [
    "c = (1+.6)/2\n",
    "c"
   ]
  },
  {
   "cell_type": "markdown",
   "id": "73ac797d",
   "metadata": {},
   "source": [
    "# Z-scores of 90% confidence interval\n"
   ]
  },
  {
   "cell_type": "code",
   "execution_count": 5,
   "id": "ab3b141b",
   "metadata": {},
   "outputs": [
    {
     "data": {
      "text/plain": [
       "1.6448536269514722"
      ]
     },
     "execution_count": 5,
     "metadata": {},
     "output_type": "execute_result"
    }
   ],
   "source": [
    "stats.norm.ppf(.95)"
   ]
  },
  {
   "cell_type": "markdown",
   "id": "755a8f5e",
   "metadata": {},
   "source": [
    "# Z-scores of 94% confidence interval\n"
   ]
  },
  {
   "cell_type": "code",
   "execution_count": 6,
   "id": "12ab5df4",
   "metadata": {},
   "outputs": [
    {
     "data": {
      "text/plain": [
       "1.8807936081512509"
      ]
     },
     "execution_count": 6,
     "metadata": {},
     "output_type": "execute_result"
    }
   ],
   "source": [
    "stats.norm.ppf(.97)"
   ]
  },
  {
   "cell_type": "markdown",
   "id": "c6507d19",
   "metadata": {},
   "source": [
    "# Z-scores of 60% confidence interval\n"
   ]
  },
  {
   "cell_type": "code",
   "execution_count": 7,
   "id": "c3248dbb",
   "metadata": {},
   "outputs": [
    {
     "data": {
      "text/plain": [
       "0.8416212335729143"
      ]
     },
     "execution_count": 7,
     "metadata": {},
     "output_type": "execute_result"
    }
   ],
   "source": [
    "stats.norm.ppf(0.8)"
   ]
  },
  {
   "cell_type": "code",
   "execution_count": null,
   "id": "5782a287",
   "metadata": {},
   "outputs": [],
   "source": []
  }
 ],
 "metadata": {
  "kernelspec": {
   "display_name": "Python 3 (ipykernel)",
   "language": "python",
   "name": "python3"
  },
  "language_info": {
   "codemirror_mode": {
    "name": "ipython",
    "version": 3
   },
   "file_extension": ".py",
   "mimetype": "text/x-python",
   "name": "python",
   "nbconvert_exporter": "python",
   "pygments_lexer": "ipython3",
   "version": "3.9.7"
  }
 },
 "nbformat": 4,
 "nbformat_minor": 5
}
