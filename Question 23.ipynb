{
 "cells": [
  {
   "cell_type": "markdown",
   "id": "f38cf693",
   "metadata": {},
   "source": [
    "# Q_23. Calculate the Z scores of 90% confidence interval,94% confidence interval, 60% confidence interval\n"
   ]
  },
  {
   "cell_type": "markdown",
   "id": "e03fcfdf",
   "metadata": {},
   "source": [
    "# Import Important Libraries\n"
   ]
  },
  {
   "cell_type": "code",
   "execution_count": 1,
   "id": "ed4172aa",
   "metadata": {},
   "outputs": [],
   "source": [
    "from scipy import stats\n",
    "from scipy.stats import norm\n"
   ]
  },
  {
   "cell_type": "markdown",
   "id": "6c3f4ba3",
   "metadata": {},
   "source": [
    "Sample size = 25 df = n-1 = 24"
   ]
  },
  {
   "cell_type": "markdown",
   "id": "2e48d691",
   "metadata": {},
   "source": [
    "# t scores of 95% confidence interval for sample size of 25"
   ]
  },
  {
   "cell_type": "code",
   "execution_count": 2,
   "id": "7c940c25",
   "metadata": {},
   "outputs": [
    {
     "data": {
      "text/plain": [
       "2.0638985616280205"
      ]
     },
     "execution_count": 2,
     "metadata": {},
     "output_type": "execute_result"
    }
   ],
   "source": [
    "stats.t.ppf(.975,24)"
   ]
  },
  {
   "cell_type": "markdown",
   "id": "1260bce1",
   "metadata": {},
   "source": [
    "# t scores of 96% confidence interval for sample size of 25\n"
   ]
  },
  {
   "cell_type": "code",
   "execution_count": 3,
   "id": "577d3345",
   "metadata": {},
   "outputs": [
    {
     "data": {
      "text/plain": [
       "2.1715446760080677"
      ]
     },
     "execution_count": 3,
     "metadata": {},
     "output_type": "execute_result"
    }
   ],
   "source": [
    "stats.t.ppf(.98,24)"
   ]
  },
  {
   "cell_type": "markdown",
   "id": "09908aff",
   "metadata": {},
   "source": [
    "# t scores of 99% confidence interval for sample size of 25\n"
   ]
  },
  {
   "cell_type": "code",
   "execution_count": 4,
   "id": "5b3c0e97",
   "metadata": {},
   "outputs": [
    {
     "data": {
      "text/plain": [
       "2.796939504772804"
      ]
     },
     "execution_count": 4,
     "metadata": {},
     "output_type": "execute_result"
    }
   ],
   "source": [
    "stats.t.ppf(.995,24)"
   ]
  },
  {
   "cell_type": "code",
   "execution_count": null,
   "id": "5d5739c8",
   "metadata": {},
   "outputs": [],
   "source": []
  }
 ],
 "metadata": {
  "kernelspec": {
   "display_name": "Python 3 (ipykernel)",
   "language": "python",
   "name": "python3"
  },
  "language_info": {
   "codemirror_mode": {
    "name": "ipython",
    "version": 3
   },
   "file_extension": ".py",
   "mimetype": "text/x-python",
   "name": "python",
   "nbconvert_exporter": "python",
   "pygments_lexer": "ipython3",
   "version": "3.9.7"
  }
 },
 "nbformat": 4,
 "nbformat_minor": 5
}
