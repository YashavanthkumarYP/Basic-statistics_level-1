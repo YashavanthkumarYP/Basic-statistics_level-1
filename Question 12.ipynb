{
 "cells": [
  {
   "cell_type": "markdown",
   "id": "16fde19a",
   "metadata": {},
   "source": [
    "# Q_12. Below are the scores obtained by a student in tests\n",
    "34,36,36,38,38,39,39,40,40,41,41,41,41,42,42,45,49,56 \n",
    "\n",
    "1) Find mean, median, variance, standard deviation.\n",
    "\n",
    "2) What can we say about the student marks?"
   ]
  },
  {
   "cell_type": "markdown",
   "id": "c3406a04",
   "metadata": {},
   "source": [
    "# Import Libraries\n"
   ]
  },
  {
   "cell_type": "code",
   "execution_count": 1,
   "id": "b26b7ed8",
   "metadata": {},
   "outputs": [],
   "source": [
    "import numpy as np\n",
    "import pandas as pd\n",
    "import matplotlib.pyplot as plt\n",
    "import seaborn as sns\n",
    "%matplotlib inline"
   ]
  },
  {
   "cell_type": "code",
   "execution_count": 2,
   "id": "b721f1dd",
   "metadata": {},
   "outputs": [],
   "source": [
    "TR = pd.Series([34,36,36,38,38,39,39,40,40,41,41,41,41,42,42,45,49,56])"
   ]
  },
  {
   "cell_type": "markdown",
   "id": "2e2ccc97",
   "metadata": {},
   "source": [
    "# Mean\n"
   ]
  },
  {
   "cell_type": "code",
   "execution_count": 3,
   "id": "820c2d10",
   "metadata": {},
   "outputs": [
    {
     "data": {
      "text/plain": [
       "41.0"
      ]
     },
     "execution_count": 3,
     "metadata": {},
     "output_type": "execute_result"
    }
   ],
   "source": [
    "TR.mean()"
   ]
  },
  {
   "cell_type": "markdown",
   "id": "91eb7e0f",
   "metadata": {},
   "source": [
    "# Median\n"
   ]
  },
  {
   "cell_type": "code",
   "execution_count": 4,
   "id": "f517ff5d",
   "metadata": {},
   "outputs": [
    {
     "data": {
      "text/plain": [
       "40.5"
      ]
     },
     "execution_count": 4,
     "metadata": {},
     "output_type": "execute_result"
    }
   ],
   "source": [
    "TR.median()"
   ]
  },
  {
   "cell_type": "markdown",
   "id": "b7e11699",
   "metadata": {},
   "source": [
    "# Variance\n"
   ]
  },
  {
   "cell_type": "code",
   "execution_count": 5,
   "id": "60646587",
   "metadata": {},
   "outputs": [
    {
     "data": {
      "text/plain": [
       "25.529411764705884"
      ]
     },
     "execution_count": 5,
     "metadata": {},
     "output_type": "execute_result"
    }
   ],
   "source": [
    "TR.var()"
   ]
  },
  {
   "cell_type": "markdown",
   "id": "59aac8ff",
   "metadata": {},
   "source": [
    "# Standard Deviation\n"
   ]
  },
  {
   "cell_type": "code",
   "execution_count": 6,
   "id": "6a256044",
   "metadata": {},
   "outputs": [
    {
     "data": {
      "text/plain": [
       "5.05266382858645"
      ]
     },
     "execution_count": 6,
     "metadata": {},
     "output_type": "execute_result"
    }
   ],
   "source": [
    "TR.std()"
   ]
  },
  {
   "cell_type": "markdown",
   "id": "d7c52528",
   "metadata": {},
   "source": [
    "# Inferences\n"
   ]
  },
  {
   "cell_type": "markdown",
   "id": "e17ac6a9",
   "metadata": {},
   "source": [
    "# Boxplot\n"
   ]
  },
  {
   "cell_type": "code",
   "execution_count": 7,
   "id": "f17f003b",
   "metadata": {},
   "outputs": [
    {
     "data": {
      "image/png": "[encoded data removed]",
      "text/plain": [
       "<Figure size 432x288 with 1 Axes>"
      ]
     },
     "metadata": {
      "needs_background": "light"
     },
     "output_type": "display_data"
    }
   ],
   "source": [
    "plt.boxplot(TR)\n",
    "plt.show()"
   ]
  },
  {
   "cell_type": "markdown",
   "id": "322c4871",
   "metadata": {},
   "source": [
    "# Histogram\n"
   ]
  },
  {
   "cell_type": "code",
   "execution_count": 8,
   "id": "1ad598ad",
   "metadata": {},
   "outputs": [
    {
     "data": {
      "image/png": "[encoded data removed]",
      "text/plain": [
       "<Figure size 432x288 with 1 Axes>"
      ]
     },
     "metadata": {
      "needs_background": "light"
     },
     "output_type": "display_data"
    }
   ],
   "source": [
    "plt.hist(TR, label='TR')\n",
    "plt.legend();"
   ]
  },
  {
   "cell_type": "code",
   "execution_count": null,
   "id": "677fd76f",
   "metadata": {},
   "outputs": [],
   "source": []
  }
 ],
 "metadata": {
  "kernelspec": {
   "display_name": "Python 3 (ipykernel)",
   "language": "python",
   "name": "python3"
  },
  "language_info": {
   "codemirror_mode": {
    "name": "ipython",
    "version": 3
   },
   "file_extension": ".py",
   "mimetype": "text/x-python",
   "name": "python",
   "nbconvert_exporter": "python",
   "pygments_lexer": "ipython3",
   "version": "3.9.7"
  }
 },
 "nbformat": 4,
 "nbformat_minor": 5
}
