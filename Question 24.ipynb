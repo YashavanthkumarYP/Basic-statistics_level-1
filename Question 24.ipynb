{
 "cells": [
  {
   "cell_type": "markdown",
   "id": "68224069",
   "metadata": {},
   "source": [
    "# Q_24.A Government company claims that an average light bulb lasts 270 days. A researcher randomly selects 18 bulbs for testing. The sampled bulbs last an average of 260 days, with a standard deviation of 90 days. If the CEO's claim were true, what is the probability that 18 randomly selected bulbs would have an average life of no more than 260 days\n",
    "\n",
    "Hint:\n",
    "\n",
    "rcode  pt(tscore,df)\n",
    "\n",
    "df  degrees of freedom"
   ]
  },
  {
   "cell_type": "markdown",
   "id": "8e6822a1",
   "metadata": {},
   "source": [
    "# Import Important Libraries\n"
   ]
  },
  {
   "cell_type": "code",
   "execution_count": 1,
   "id": "a2c20af7",
   "metadata": {},
   "outputs": [],
   "source": [
    "from scipy import stats\n",
    "from scipy.stats import norm\n"
   ]
  },
  {
   "cell_type": "markdown",
   "id": "26b954af",
   "metadata": {},
   "source": [
    "Assume Null Hypothesis is: Ho = Avg life of Bulb >= 260 days\n",
    "\n",
    "Alternate Hypothesis is: H1 = Avg life of Bulb < 260 days"
   ]
  },
  {
   "cell_type": "markdown",
   "id": "8f7de82e",
   "metadata": {},
   "source": [
    "# find t-scores at x=260; t=(s_mean-P_mean)/(s_SD/sqrt(n))\n"
   ]
  },
  {
   "cell_type": "code",
   "execution_count": 2,
   "id": "23011d1a",
   "metadata": {},
   "outputs": [
    {
     "data": {
      "text/plain": [
       "-0.4714045207910317"
      ]
     },
     "execution_count": 2,
     "metadata": {},
     "output_type": "execute_result"
    }
   ],
   "source": [
    "t=(260-270)/(90/18**0.5)\n",
    "t"
   ]
  },
  {
   "cell_type": "markdown",
   "id": "d49527b0",
   "metadata": {},
   "source": [
    "# Find P(X>=260) for null hypothesis\n"
   ]
  },
  {
   "cell_type": "markdown",
   "id": "2ef92017",
   "metadata": {},
   "source": [
    "# P_Value = 1-stats.t.cdf(abs(t_scores), df = n-1)... Using cdf function\n"
   ]
  },
  {
   "cell_type": "code",
   "execution_count": 3,
   "id": "4a18bf72",
   "metadata": {},
   "outputs": [
    {
     "data": {
      "text/plain": [
       "0.32167411684460556"
      ]
     },
     "execution_count": 3,
     "metadata": {},
     "output_type": "execute_result"
    }
   ],
   "source": [
    "P_Value = 1-stats.t.cdf(abs(-.4714),df=17)\n",
    "P_Value"
   ]
  },
  {
   "cell_type": "markdown",
   "id": "1a68fc19",
   "metadata": {},
   "source": [
    "# OR P_Value = stats.t.sf(abs(t_score), df = n-1)... Using sf function\n"
   ]
  },
  {
   "cell_type": "code",
   "execution_count": 4,
   "id": "666a821c",
   "metadata": {},
   "outputs": [
    {
     "data": {
      "text/plain": [
       "0.32167411684460556"
      ]
     },
     "execution_count": 4,
     "metadata": {},
     "output_type": "execute_result"
    }
   ],
   "source": [
    "P_Value=stats.t.sf(abs(-0.4714),df=17)\n",
    "P_Value"
   ]
  },
  {
   "cell_type": "code",
   "execution_count": null,
   "id": "c2113146",
   "metadata": {},
   "outputs": [],
   "source": []
  }
 ],
 "metadata": {
  "kernelspec": {
   "display_name": "Python 3 (ipykernel)",
   "language": "python",
   "name": "python3"
  },
  "language_info": {
   "codemirror_mode": {
    "name": "ipython",
    "version": 3
   },
   "file_extension": ".py",
   "mimetype": "text/x-python",
   "name": "python",
   "nbconvert_exporter": "python",
   "pygments_lexer": "ipython3",
   "version": "3.9.7"
  }
 },
 "nbformat": 4,
 "nbformat_minor": 5
}
